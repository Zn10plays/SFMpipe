{
 "cells": [
  {
   "cell_type": "code",
   "execution_count": 9,
   "metadata": {},
   "outputs": [],
   "source": [
    "import cv2\n",
    "from pathlib import Path\n",
    "import pycolmap\n",
    "import pytube"
   ]
  },
  {
   "cell_type": "code",
   "execution_count": 10,
   "metadata": {},
   "outputs": [],
   "source": [
    "# url = 'https://www.youtube.com/watch?v=kacyaEXqVhs'"
   ]
  },
  {
   "cell_type": "code",
   "execution_count": 11,
   "metadata": {},
   "outputs": [],
   "source": [
    "data_dir = Path('../' + 'data')\n",
    "images = data_dir / 'images'\n",
    "videos = data_dir / 'video'"
   ]
  },
  {
   "cell_type": "code",
   "execution_count": 12,
   "metadata": {},
   "outputs": [
    {
     "data": {
      "text/plain": [
       "PosixPath('../data/video')"
      ]
     },
     "execution_count": 12,
     "metadata": {},
     "output_type": "execute_result"
    }
   ],
   "source": [
    "videos"
   ]
  },
  {
   "cell_type": "code",
   "execution_count": 13,
   "metadata": {},
   "outputs": [
    {
     "name": "stdout",
     "output_type": "stream",
     "text": [
      "Total number of frames: 1208\n"
     ]
    }
   ],
   "source": [
    "cap = cv2.VideoCapture(str(videos / \"vid.mov\"))\n",
    "# note 161 seconds in the vid\n",
    "\n",
    "# Get the total number of frames\n",
    "total_frames = int(cap.get(cv2.CAP_PROP_FRAME_COUNT))\n",
    "\n",
    "print(f'Total number of frames: {total_frames}')\n",
    "\n",
    "# Release the video capture object\n",
    "cap.release()"
   ]
  },
  {
   "cell_type": "code",
   "execution_count": null,
   "metadata": {},
   "outputs": [],
   "source": [
    "cap = cv2.VideoCapture(str(videos / \"vid.mov\"))\n",
    "num_frames = 0\n",
    "\n",
    "while(cap.isOpened()):\n",
    "    ret, frame = cap.read()\n",
    "    \n",
    "    if num_frames % 15 == 0:\n",
    "        target = str(images / f'{num_frames / 15}.jpg')\n",
    "        cv2.imwrite(target, frame)\n",
    "    num_frames += 1"
   ]
  },
  {
   "cell_type": "code",
   "execution_count": null,
   "metadata": {},
   "outputs": [],
   "source": [
    "output_path = data_dir / \"out\"\n",
    "image_dir = images"
   ]
  },
  {
   "cell_type": "code",
   "execution_count": null,
   "metadata": {},
   "outputs": [],
   "source": [
    "output_path.mkdir()\n",
    "mvs_path = output_path / \"mvs\"\n",
    "database_path = output_path / \"database.db\"\n",
    "\n",
    "pycolmap.extract_features(database_path, image_dir)\n",
    "pycolmap.match_exhaustive(database_path)\n",
    "maps = pycolmap.incremental_mapping(database_path, image_dir, output_path)\n",
    "maps[0].write(output_path)"
   ]
  },
  {
   "cell_type": "code",
   "execution_count": null,
   "metadata": {},
   "outputs": [],
   "source": [
    "# dense reconstruction\n",
    "pycolmap.undistort_images(mvs_path, output_path, image_dir)\n",
    "pycolmap.patch_match_stereo(mvs_path)  # requires compilation with CUDA\n",
    "pycolmap.stereo_fusion(mvs_path / \"dense.ply\", mvs_path)"
   ]
  },
  {
   "cell_type": "code",
   "execution_count": null,
   "metadata": {},
   "outputs": [],
   "source": [
    "'done'"
   ]
  }
 ],
 "metadata": {
  "kernelspec": {
   "display_name": "Python 3 (ipykernel)",
   "language": "python",
   "name": "python3"
  },
  "language_info": {
   "codemirror_mode": {
    "name": "ipython",
    "version": 3
   },
   "file_extension": ".py",
   "mimetype": "text/x-python",
   "name": "python",
   "nbconvert_exporter": "python",
   "pygments_lexer": "ipython3",
   "version": "3.10.12"
  }
 },
 "nbformat": 4,
 "nbformat_minor": 4
}
